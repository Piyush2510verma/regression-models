{
 "cells": [
  {
   "cell_type": "code",
   "execution_count": 2,
   "metadata": {},
   "outputs": [
    {
     "data": {
      "text/plain": [
       "(0, 14)"
      ]
     },
     "execution_count": 2,
     "metadata": {},
     "output_type": "execute_result"
    }
   ],
   "source": [
    "from sklearn.tree import DecisionTreeRegressor\n",
    "from sklearn.model_selection import train_test_split\n",
    "from sklearn.metrics import mean_squared_error\n",
    "from sklearn.preprocessing import LabelEncoder\n",
    "from sklearn.preprocessing import OneHotEncoder\n",
    "import pandas as pd\n",
    "import numpy as np\n",
    "\n",
    "label_encoder = LabelEncoder()\n",
    "encoder = OneHotEncoder(handle_unknown='ignore')\n",
    "\n",
    "train_data = pd.read_csv('train.csv')\n",
    "train_data.dropna(inplace=True)\n",
    "\n",
    "X_train = train_data.drop(columns=['Selling_Price'])\n",
    "y_train = train_data['Selling_Price']\n",
    "\n",
    "for index, row in X_train.iterrows():\n",
    "    # Extract the time string from the \"instock_date\" column\n",
    "    time_str = row['instock_date']\n",
    "    \n",
    "    # Split the time string into its constituent parts\n",
    "    parts = time_str.split(':')\n",
    "    minutes = float(parts[0])\n",
    "    seconds = float(parts[1])\n",
    "    \n",
    "    # Calculate the total time in seconds\n",
    "    total_time = (minutes * 60) + seconds\n",
    "    \n",
    "    # Update the \"instock_date\" column with the float value\n",
    "    X_train.at[index, 'instock_date'] = total_time\n",
    "\n",
    "X_train['Product_id'] = label_encoder.fit_transform(X_train['Product_id'])\n",
    "\n",
    "# transform the customer name data into one-hot encoded data\n",
    "customer_name_encoded = encoder.fit_transform(X_train['Customer_name'].values.reshape(-1, 1))\n",
    "\n",
    "feature_names = encoder.get_feature_names_out(input_features=['Customer_name'])\n",
    "\n",
    "# add the encoded data to the X_train DataFrame\n",
    "X_train = pd.concat([X_train.drop(columns=['Customer_name']), pd.DataFrame(customer_name_encoded.toarray(), columns=feature_names)], axis=1)\n",
    "\n",
    "new_test_data = pd.read_csv('test.csv')\n",
    "new_test_data.dropna(inplace=True)\n",
    "\n",
    "X_new_test = new_test_data.drop(columns=['Selling_Price'])\n",
    "y_new_test = new_test_data['Selling_Price']\n",
    "\n",
    "X_new_test.shape\n"
   ]
  },
  {
   "cell_type": "code",
   "execution_count": 1,
   "metadata": {},
   "outputs": [
    {
     "ename": "NameError",
     "evalue": "name 'X_test' is not defined",
     "output_type": "error",
     "traceback": [
      "\u001b[1;31m---------------------------------------------------------------------------\u001b[0m",
      "\u001b[1;31mNameError\u001b[0m                                 Traceback (most recent call last)",
      "Cell \u001b[1;32mIn[1], line 1\u001b[0m\n\u001b[1;32m----> 1\u001b[0m \u001b[39mfor\u001b[39;00m index, row \u001b[39min\u001b[39;00m X_test\u001b[39m.\u001b[39miterrows():\n\u001b[0;32m      2\u001b[0m     \u001b[39m# Extract the time string from the \"instock_date\" column\u001b[39;00m\n\u001b[0;32m      3\u001b[0m     time_str \u001b[39m=\u001b[39m row[\u001b[39m'\u001b[39m\u001b[39minstock_date\u001b[39m\u001b[39m'\u001b[39m]\n\u001b[0;32m      5\u001b[0m     \u001b[39m# Split the time string into its constituent parts\u001b[39;00m\n",
      "\u001b[1;31mNameError\u001b[0m: name 'X_test' is not defined"
     ]
    }
   ],
   "source": [
    "\n",
    "\n",
    "for index, row in X_new_test.iterrows():\n",
    "    # Extract the time string from the \"instock_date\" column\n",
    "    time_str = row['instock_date']\n",
    "    \n",
    "    # Split the time string into its constituent parts\n",
    "    parts = time_str.split(':')\n",
    "    minutes = float(parts[0])\n",
    "    seconds = float(parts[1])\n",
    "    \n",
    "    # Calculate the total time in seconds\n",
    "    total_time = (minutes * 60) + seconds\n",
    "    \n",
    "    # Update the \"instock_date\" column with the float value\n",
    "    X_new_test.at[index, 'instock_date'] = total_time\n",
    "\n",
    "X_new_test['Product_id'] = label_encoder.transform(X_new_test['Product_id'])\n",
    "\n",
    "\n",
    "\n",
    "\n",
    "\n",
    "# create a new DataFrame that contains the encoded data and the original data\n",
    "encoded_data = pd.concat([X_new_test.drop(columns=['Customer_name']), pd.DataFrame(customer_name_encoded.toarray(), columns=encoder.categories_[0])], axis=1)\n",
    "\n",
    "# write the new DataFrame to a CSV file\n",
    "encoded_data.to_csv('encoded_train_data.csv', index=False)\n",
    "\n",
    "\n",
    "print(X_new_test['Customer_name'].values.reshape(-1, 1).shape)\n",
    "\n",
    "customer_name_encoded = encoder.transform(X_new_test['Customer_name'].values.reshape(-1, 1))\n",
    "\n",
    "\n",
    "\n",
    "# transform the customer name data into one-hot encoded data\n",
    "customer_name_encoded = encoder.transform(X_new_test['Customer_name'].values.reshape(-1, 1))\n",
    "\n",
    "feature_names = encoder.get_feature_names_out(input_features=['Customer_name'])\n",
    "\n",
    "# add the encoded data to the X_test DataFrame\n",
    "X_test = pd.concat([X_new_test.drop(columns=['Customer_name']), pd.DataFrame(customer_name_encoded.toarray(), columns=feature_names)], axis=1)\n",
    "\n",
    "regressor = DecisionTreeRegressor()\n",
    "\n",
    "regressor.fit(X_train,y_train)\n",
    "\n",
    "y_predict = regressor.predict(X_test)\n",
    "\n",
    "mse = mean_squared_error(y_new_test,y_predict)\n",
    "print(mse)\n"
   ]
  }
 ],
 "metadata": {
  "kernelspec": {
   "display_name": "Python 3",
   "language": "python",
   "name": "python3"
  },
  "language_info": {
   "codemirror_mode": {
    "name": "ipython",
    "version": 3
   },
   "file_extension": ".py",
   "mimetype": "text/x-python",
   "name": "python",
   "nbconvert_exporter": "python",
   "pygments_lexer": "ipython3",
   "version": "3.10.8"
  },
  "orig_nbformat": 4,
  "vscode": {
   "interpreter": {
    "hash": "983cef15e7e1de1c6f07b992ec78b1683f70dd5765a6c119589f8c97644b38ee"
   }
  }
 },
 "nbformat": 4,
 "nbformat_minor": 2
}
